{
 "cells": [
  {
   "cell_type": "code",
   "execution_count": null,
   "id": "b0c9635b",
   "metadata": {},
   "outputs": [
    {
     "name": "stdout",
     "output_type": "stream",
     "text": [
      "###[ IP ]###\n",
      "  version   = 4\n",
      "  ihl       = None\n",
      "  tos       = 0x0\n",
      "  len       = None\n",
      "  id        = 1\n",
      "  flags     = \n",
      "  frag      = 0\n",
      "  ttl       = 64\n",
      "  proto     = icmp\n",
      "  chksum    = None\n",
      "  src       = 192.168.0.126\n",
      "  dst       = Net(\"nitmz.ac.in/32\")\n",
      "  \\options   \\\n",
      "###[ ICMP ]###\n",
      "     type      = echo-request\n",
      "     code      = 0\n",
      "     chksum    = None\n",
      "     id        = 0x0\n",
      "     seq       = 0x0\n",
      "     unused    = b''\n",
      "\n",
      "None\n"
     ]
    },
    {
     "name": "stderr",
     "output_type": "stream",
     "text": [
      "/home/khush/anaconda3/lib/python3.13/site-packages/scapy/sendrecv.py:726: SyntaxWarning: 'iface' has no effect on L3 I/O sr1(). For multicast/link-local see https://scapy.readthedocs.io/en/latest/usage.html#multicast\n",
      "  warnings.warn(\n"
     ]
    },
    {
     "ename": "PermissionError",
     "evalue": "[Errno 1] Operation not permitted",
     "output_type": "error",
     "traceback": [
      "\u001b[0;31m---------------------------------------------------------------------------\u001b[0m",
      "\u001b[0;31mPermissionError\u001b[0m                           Traceback (most recent call last)",
      "Cell \u001b[0;32mIn[6], line 11\u001b[0m\n\u001b[1;32m      9\u001b[0m packet \u001b[38;5;241m=\u001b[39m ip_layer\u001b[38;5;241m/\u001b[39micmp_layer\n\u001b[1;32m     10\u001b[0m \u001b[38;5;28mprint\u001b[39m(packet\u001b[38;5;241m.\u001b[39mshow())\n\u001b[0;32m---> 11\u001b[0m response \u001b[38;5;241m=\u001b[39m sr1(packet, iface\u001b[38;5;241m=\u001b[39m\u001b[38;5;124m\"\u001b[39m\u001b[38;5;124mwlan0\u001b[39m\u001b[38;5;124m\"\u001b[39m)\n\u001b[1;32m     12\u001b[0m \u001b[38;5;28mprint\u001b[39m(response\u001b[38;5;241m.\u001b[39mshow())\n",
      "File \u001b[0;32m~/anaconda3/lib/python3.13/site-packages/scapy/sendrecv.py:732\u001b[0m, in \u001b[0;36msr1\u001b[0;34m(*args, **kargs)\u001b[0m\n\u001b[1;32m    726\u001b[0m     warnings\u001b[38;5;241m.\u001b[39mwarn(\n\u001b[1;32m    727\u001b[0m         \u001b[38;5;124m\"\u001b[39m\u001b[38;5;124m'\u001b[39m\u001b[38;5;124miface\u001b[39m\u001b[38;5;124m'\u001b[39m\u001b[38;5;124m has no effect on L3 I/O sr1(). For multicast/link-local \u001b[39m\u001b[38;5;124m\"\u001b[39m\n\u001b[1;32m    728\u001b[0m         \u001b[38;5;124m\"\u001b[39m\u001b[38;5;124msee https://scapy.readthedocs.io/en/latest/usage.html#multicast\u001b[39m\u001b[38;5;124m\"\u001b[39m,\n\u001b[1;32m    729\u001b[0m         \u001b[38;5;167;01mSyntaxWarning\u001b[39;00m,\n\u001b[1;32m    730\u001b[0m     )\n\u001b[1;32m    731\u001b[0m     \u001b[38;5;28;01mdel\u001b[39;00m kargs[\u001b[38;5;124m\"\u001b[39m\u001b[38;5;124miface\u001b[39m\u001b[38;5;124m\"\u001b[39m]\n\u001b[0;32m--> 732\u001b[0m ans, _ \u001b[38;5;241m=\u001b[39m sr(\u001b[38;5;241m*\u001b[39margs, \u001b[38;5;241m*\u001b[39m\u001b[38;5;241m*\u001b[39mkargs)\n\u001b[1;32m    733\u001b[0m \u001b[38;5;28;01mif\u001b[39;00m ans:\n\u001b[1;32m    734\u001b[0m     \u001b[38;5;28;01mreturn\u001b[39;00m cast(Packet, ans[\u001b[38;5;241m0\u001b[39m][\u001b[38;5;241m1\u001b[39m])\n",
      "File \u001b[0;32m~/anaconda3/lib/python3.13/site-packages/scapy/sendrecv.py:706\u001b[0m, in \u001b[0;36msr\u001b[0;34m(x, promisc, filter, nofilter, *args, **kargs)\u001b[0m\n\u001b[1;32m    704\u001b[0m     \u001b[38;5;28;01mdel\u001b[39;00m kargs[\u001b[38;5;124m\"\u001b[39m\u001b[38;5;124miface\u001b[39m\u001b[38;5;124m\"\u001b[39m]\n\u001b[1;32m    705\u001b[0m iface, ipv6 \u001b[38;5;241m=\u001b[39m _interface_selection(x)\n\u001b[0;32m--> 706\u001b[0m s \u001b[38;5;241m=\u001b[39m iface\u001b[38;5;241m.\u001b[39ml3socket(ipv6)(\n\u001b[1;32m    707\u001b[0m     promisc\u001b[38;5;241m=\u001b[39mpromisc, \u001b[38;5;28mfilter\u001b[39m\u001b[38;5;241m=\u001b[39m\u001b[38;5;28mfilter\u001b[39m,\n\u001b[1;32m    708\u001b[0m     iface\u001b[38;5;241m=\u001b[39miface, nofilter\u001b[38;5;241m=\u001b[39mnofilter,\n\u001b[1;32m    709\u001b[0m )\n\u001b[1;32m    710\u001b[0m result \u001b[38;5;241m=\u001b[39m sndrcv(s, x, \u001b[38;5;241m*\u001b[39margs, \u001b[38;5;241m*\u001b[39m\u001b[38;5;241m*\u001b[39mkargs)\n\u001b[1;32m    711\u001b[0m s\u001b[38;5;241m.\u001b[39mclose()\n",
      "File \u001b[0;32m~/anaconda3/lib/python3.13/site-packages/scapy/arch/linux/__init__.py:327\u001b[0m, in \u001b[0;36mL3PacketSocket.__init__\u001b[0;34m(self, iface, type, promisc, filter, nofilter, monitor)\u001b[0m\n\u001b[1;32m    318\u001b[0m \u001b[38;5;28;01mdef\u001b[39;00m\u001b[38;5;250m \u001b[39m\u001b[38;5;21m__init__\u001b[39m(\u001b[38;5;28mself\u001b[39m,\n\u001b[1;32m    319\u001b[0m              iface\u001b[38;5;241m=\u001b[39m\u001b[38;5;28;01mNone\u001b[39;00m,  \u001b[38;5;66;03m# type: Optional[Union[str, NetworkInterface]]\u001b[39;00m\n\u001b[1;32m    320\u001b[0m              \u001b[38;5;28mtype\u001b[39m\u001b[38;5;241m=\u001b[39mETH_P_ALL,  \u001b[38;5;66;03m# type: int\u001b[39;00m\n\u001b[0;32m   (...)\u001b[0m\n\u001b[1;32m    324\u001b[0m              monitor\u001b[38;5;241m=\u001b[39m\u001b[38;5;28;01mNone\u001b[39;00m,  \u001b[38;5;66;03m# type: Optional[Any]\u001b[39;00m\n\u001b[1;32m    325\u001b[0m              ):\n\u001b[1;32m    326\u001b[0m     \u001b[38;5;28mself\u001b[39m\u001b[38;5;241m.\u001b[39msend_socks \u001b[38;5;241m=\u001b[39m {}\n\u001b[0;32m--> 327\u001b[0m     \u001b[38;5;28msuper\u001b[39m(L3PacketSocket, \u001b[38;5;28mself\u001b[39m)\u001b[38;5;241m.\u001b[39m\u001b[38;5;21m__init__\u001b[39m(\n\u001b[1;32m    328\u001b[0m         iface\u001b[38;5;241m=\u001b[39miface,\n\u001b[1;32m    329\u001b[0m         \u001b[38;5;28mtype\u001b[39m\u001b[38;5;241m=\u001b[39m\u001b[38;5;28mtype\u001b[39m,\n\u001b[1;32m    330\u001b[0m         promisc\u001b[38;5;241m=\u001b[39mpromisc,\n\u001b[1;32m    331\u001b[0m         \u001b[38;5;28mfilter\u001b[39m\u001b[38;5;241m=\u001b[39m\u001b[38;5;28mfilter\u001b[39m,\n\u001b[1;32m    332\u001b[0m         nofilter\u001b[38;5;241m=\u001b[39mnofilter,\n\u001b[1;32m    333\u001b[0m         monitor\u001b[38;5;241m=\u001b[39mmonitor,\n\u001b[1;32m    334\u001b[0m     )\n\u001b[1;32m    335\u001b[0m     \u001b[38;5;28mself\u001b[39m\u001b[38;5;241m.\u001b[39mfilter \u001b[38;5;241m=\u001b[39m \u001b[38;5;28mfilter\u001b[39m\n\u001b[1;32m    336\u001b[0m     \u001b[38;5;28mself\u001b[39m\u001b[38;5;241m.\u001b[39msend_socks \u001b[38;5;241m=\u001b[39m {network_name(\u001b[38;5;28mself\u001b[39m\u001b[38;5;241m.\u001b[39miface): \u001b[38;5;28mself\u001b[39m}\n",
      "File \u001b[0;32m~/anaconda3/lib/python3.13/site-packages/scapy/arch/linux/__init__.py:218\u001b[0m, in \u001b[0;36mL2Socket.__init__\u001b[0;34m(self, iface, type, promisc, filter, nofilter, monitor)\u001b[0m\n\u001b[1;32m    216\u001b[0m \u001b[38;5;28mself\u001b[39m\u001b[38;5;241m.\u001b[39mtype \u001b[38;5;241m=\u001b[39m \u001b[38;5;28mtype\u001b[39m\n\u001b[1;32m    217\u001b[0m \u001b[38;5;28mself\u001b[39m\u001b[38;5;241m.\u001b[39mpromisc \u001b[38;5;241m=\u001b[39m conf\u001b[38;5;241m.\u001b[39msniff_promisc \u001b[38;5;28;01mif\u001b[39;00m promisc \u001b[38;5;129;01mis\u001b[39;00m \u001b[38;5;28;01mNone\u001b[39;00m \u001b[38;5;28;01melse\u001b[39;00m promisc\n\u001b[0;32m--> 218\u001b[0m \u001b[38;5;28mself\u001b[39m\u001b[38;5;241m.\u001b[39mins \u001b[38;5;241m=\u001b[39m socket\u001b[38;5;241m.\u001b[39msocket(\n\u001b[1;32m    219\u001b[0m     socket\u001b[38;5;241m.\u001b[39mAF_PACKET, socket\u001b[38;5;241m.\u001b[39mSOCK_RAW, socket\u001b[38;5;241m.\u001b[39mhtons(\u001b[38;5;28mtype\u001b[39m))\n\u001b[1;32m    220\u001b[0m \u001b[38;5;28mself\u001b[39m\u001b[38;5;241m.\u001b[39mins\u001b[38;5;241m.\u001b[39msetsockopt(socket\u001b[38;5;241m.\u001b[39mSOL_SOCKET, socket\u001b[38;5;241m.\u001b[39mSO_RCVBUF, \u001b[38;5;241m0\u001b[39m)\n\u001b[1;32m    221\u001b[0m \u001b[38;5;28;01mif\u001b[39;00m \u001b[38;5;129;01mnot\u001b[39;00m nofilter:\n",
      "File \u001b[0;32m~/anaconda3/lib/python3.13/socket.py:233\u001b[0m, in \u001b[0;36msocket.__init__\u001b[0;34m(self, family, type, proto, fileno)\u001b[0m\n\u001b[1;32m    231\u001b[0m     \u001b[38;5;28;01mif\u001b[39;00m proto \u001b[38;5;241m==\u001b[39m \u001b[38;5;241m-\u001b[39m\u001b[38;5;241m1\u001b[39m:\n\u001b[1;32m    232\u001b[0m         proto \u001b[38;5;241m=\u001b[39m \u001b[38;5;241m0\u001b[39m\n\u001b[0;32m--> 233\u001b[0m _socket\u001b[38;5;241m.\u001b[39msocket\u001b[38;5;241m.\u001b[39m\u001b[38;5;21m__init__\u001b[39m(\u001b[38;5;28mself\u001b[39m, family, \u001b[38;5;28mtype\u001b[39m, proto, fileno)\n\u001b[1;32m    234\u001b[0m \u001b[38;5;28mself\u001b[39m\u001b[38;5;241m.\u001b[39m_io_refs \u001b[38;5;241m=\u001b[39m \u001b[38;5;241m0\u001b[39m\n\u001b[1;32m    235\u001b[0m \u001b[38;5;28mself\u001b[39m\u001b[38;5;241m.\u001b[39m_closed \u001b[38;5;241m=\u001b[39m \u001b[38;5;28;01mFalse\u001b[39;00m\n",
      "\u001b[0;31mPermissionError\u001b[0m: [Errno 1] Operation not permitted"
     ]
    }
   ],
   "source": [
    "from scapy.all import ICMP, IP\n",
    "from scapy.all import sr1\n",
    "src_ip=\"192.168.0.126\"\n",
    "dest_ip=\"nitmz.ac.in\"\n",
    "ip_layer=IP(src=src_ip, dst=dest_ip)\n",
    "# print(ip_layer.show())\n",
    "icmp_layer=ICMP()\n",
    "# print(icmp_layer.show())\n",
    "packet = ip_layer/icmp_layer\n",
    "# print(packet.show())\n",
    "response = sr1(packet, iface=\"wlan0\")\n",
    "print(response.show())"
   ]
  }
 ],
 "metadata": {
  "kernelspec": {
   "display_name": "base",
   "language": "python",
   "name": "python3"
  },
  "language_info": {
   "codemirror_mode": {
    "name": "ipython",
    "version": 3
   },
   "file_extension": ".py",
   "mimetype": "text/x-python",
   "name": "python",
   "nbconvert_exporter": "python",
   "pygments_lexer": "ipython3",
   "version": "3.13.5"
  }
 },
 "nbformat": 4,
 "nbformat_minor": 5
}
